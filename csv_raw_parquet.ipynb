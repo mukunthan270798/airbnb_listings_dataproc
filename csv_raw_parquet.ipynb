{
 "cells": [
  {
   "cell_type": "markdown",
   "id": "102b5cbd",
   "metadata": {},
   "source": [
    "### Data processing using pyspark"
   ]
  },
  {
   "cell_type": "code",
   "execution_count": 16,
   "id": "eb3823af",
   "metadata": {},
   "outputs": [],
   "source": [
    "from pyspark.sql import SparkSession\n",
    "from pyspark.sql.functions import *\n",
    "from pyspark.sql.types import IntegerType, FloatType, DateType"
   ]
  },
  {
   "cell_type": "code",
   "execution_count": 2,
   "id": "1c59d409",
   "metadata": {},
   "outputs": [],
   "source": [
    "spark = SparkSession.builder.appName(\"csv_to_parquet\").getOrCreate()"
   ]
  },
  {
   "cell_type": "markdown",
   "id": "7224ad7c",
   "metadata": {},
   "source": [
    "### Read the Airbnb csv file from GCS bucket"
   ]
  },
  {
   "cell_type": "code",
   "execution_count": 24,
   "id": "e858669f",
   "metadata": {},
   "outputs": [
    {
     "name": "stderr",
     "output_type": "stream",
     "text": [
      "                                                                                \r"
     ]
    }
   ],
   "source": [
    "df = spark.read.options(header=True,nanValue=\"\",inferSchema=True).csv(\"gs://airbnb_listing_analysis/raw_csv/listings.csv\")"
   ]
  },
  {
   "cell_type": "code",
   "execution_count": 6,
   "id": "95f318cc",
   "metadata": {
    "scrolled": true
   },
   "outputs": [
    {
     "name": "stdout",
     "output_type": "stream",
     "text": [
      "root\n",
      " |-- listing_id: integer (nullable = true)\n",
      " |-- name: string (nullable = true)\n",
      " |-- host_id: string (nullable = true)\n",
      " |-- host_since: string (nullable = true)\n",
      " |-- host_location: string (nullable = true)\n",
      " |-- host_response_time: string (nullable = true)\n",
      " |-- host_response_rate: string (nullable = true)\n",
      " |-- host_acceptance_rate: string (nullable = true)\n",
      " |-- host_is_superhost: string (nullable = true)\n",
      " |-- host_total_listings_count: string (nullable = true)\n",
      " |-- host_has_profile_pic: string (nullable = true)\n",
      " |-- host_identity_verified: string (nullable = true)\n",
      " |-- neighbourhood: string (nullable = true)\n",
      " |-- district: string (nullable = true)\n",
      " |-- city: string (nullable = true)\n",
      " |-- latitude: string (nullable = true)\n",
      " |-- longitude: string (nullable = true)\n",
      " |-- property_type: string (nullable = true)\n",
      " |-- room_type: string (nullable = true)\n",
      " |-- accommodates: string (nullable = true)\n",
      " |-- bedrooms: string (nullable = true)\n",
      " |-- amenities: string (nullable = true)\n",
      " |-- price: string (nullable = true)\n",
      " |-- minimum_nights: string (nullable = true)\n",
      " |-- maximum_nights: string (nullable = true)\n",
      " |-- review_scores_rating: string (nullable = true)\n",
      " |-- review_scores_accuracy: string (nullable = true)\n",
      " |-- review_scores_cleanliness: string (nullable = true)\n",
      " |-- review_scores_checkin: string (nullable = true)\n",
      " |-- review_scores_communication: string (nullable = true)\n",
      " |-- review_scores_location: string (nullable = true)\n",
      " |-- review_scores_value: string (nullable = true)\n",
      " |-- instant_bookable: string (nullable = true)\n",
      "\n"
     ]
    }
   ],
   "source": [
    "df.printSchema()"
   ]
  },
  {
   "cell_type": "markdown",
   "id": "88b8b301",
   "metadata": {},
   "source": [
    "### Drop the columns that are not required"
   ]
  },
  {
   "cell_type": "code",
   "execution_count": 25,
   "id": "5afc88fc",
   "metadata": {},
   "outputs": [],
   "source": [
    "new_df=df.drop(\"host_location\",\"host_has_profile_pic\",\"minimum_nights\",\"maximum_nights\",\"latitude\",\"longitude\",\"amenities\",\\\n",
    "    \"instant_bookable\",\"review_scores_accuracy\",\"review_scores_cleanliness\",\"review_scores_checkin\",\\\n",
    "        \"review_scores_communication\",\"review_scores_location\",\"review_scores_value\")"
   ]
  },
  {
   "cell_type": "code",
   "execution_count": 11,
   "id": "1638a6f8",
   "metadata": {},
   "outputs": [
    {
     "name": "stdout",
     "output_type": "stream",
     "text": [
      "+----------+--------------------+--------+----------+------------------+------------------+--------------------+-----------------+-------------------------+----------------------+-------------------+--------+-----+----------------+------------+------------+--------+---------------+--------------------+\n",
      "|listing_id|                name| host_id|host_since|host_response_time|host_response_rate|host_acceptance_rate|host_is_superhost|host_total_listings_count|host_identity_verified|      neighbourhood|district| city|   property_type|   room_type|accommodates|bedrooms|          price|review_scores_rating|\n",
      "+----------+--------------------+--------+----------+------------------+------------------+--------------------+-----------------+-------------------------+----------------------+-------------------+--------+-----+----------------+------------+------------+--------+---------------+--------------------+\n",
      "|    281420|Beautiful Flat in...| 1466919|2011-12-03|              null|              null|                null|                f|                        1|                     f|  Buttes-Montmartre|    null|Paris|Entire apartment|Entire place|           2|       1|    \"\"Kitchen\"\"| \"\"Long term stay...|\n",
      "|   3705183|39 mÂ² Paris (Sac...|10328771|2013-11-29|              null|              null|                null|                f|                        1|                     t|  Buttes-Montmartre|    null|Paris|Entire apartment|Entire place|           2|       1|    \"\"Heating\"\"|          \"\"Washer\"\"|\n",
      "|   4082273|Lovely apartment ...|19252768|2014-07-31|              null|              null|                null|                f|                        1|                     f|             Elysee|    null|Paris|Entire apartment|Entire place|           2|       1|         \"\"TV\"\"|            \"\"Wifi\"\"|\n",
      "|   4797344|Cosy studio (clos...|10668311|2013-12-17|              null|              null|                null|                f|                        1|                     t|          Vaugirard|    null|Paris|Entire apartment|Entire place|           2|       1|         \"\"TV\"\"| \"\"Long term stay...|\n",
      "|   4823489|Close to Eiffel T...|24837558|2014-12-14|              null|              null|                null|                f|                        1|                     f|              Passy|    null|Paris|Entire apartment|Entire place|           2|       1|         \"\"TV\"\"|      \"\"Hair dryer\"\"|\n",
      "|   4898654|NEW - Charming ap...|  505535|2011-04-13|              null|              null|                null|                f|                        1|                     t|             Temple|    null|Paris|Entire apartment|Entire place|           2|       1|         \"\"TV\"\"|          \"\"Washer\"\"|\n",
      "|   6021700|2P - Entre Bastil...| 8053690|2013-08-09|              null|              null|                null|                f|                        1|                     t|         Popincourt|    null|Paris|Entire apartment|Entire place|           2|       1|         \"\"TV\"\"|     \"\"Smoke alarm\"\"|\n",
      "|   6945740|57sqm btw. Bastil...| 5924709|2013-04-14|              null|              null|                null|                f|                        1|                     t|         Popincourt|    null|Paris|Entire apartment|Entire place|           2|       1|         \"\"TV\"\"|          \"\"Washer\"\"|\n",
      "|   7491966|Charming appartme...|35812762|2015-06-14|              null|              null|                null|                f|                        1|                     t|    Buttes-Chaumont|    null|Paris|Entire apartment|Entire place|           2|       1|    \"\"Shampoo\"\"|            \"\"Iron\"\"|\n",
      "|   7849932|Bel appartement p...|20833291|2014-09-02|              null|              null|                null|                f|                        1|                     t|              Opera|    null|Paris|Entire apartment|Entire place|           2|       1|         \"\"TV\"\"|      \"\"Essentials\"\"|\n",
      "|   7995091|Beau 2piÃ¨ces prÃ...|35014275|2015-06-04|              null|              null|                null|                f|                        1|                     t|           Gobelins|    null|Paris|Entire apartment|Entire place|           2|       1|    \"\"Kitchen\"\"| \"\"Carbon monoxid...|\n",
      "|   9011901|Cosy appartement ...|19939276|2014-08-13|              null|              null|                null|                f|                        1|                     t|     Hotel-de-Ville|    null|Paris|Entire apartment|Entire place|           2|       1|    \"\"Heating\"\"|      \"\"Essentials\"\"|\n",
      "|   9880847|Cosy Flat near Ru...|18264466|2014-07-17|              null|              null|                null|                f|                        1|                     f|           Pantheon|    null|Paris|Entire apartment|Entire place|           2|       1|       \"\"Iron\"\"|      \"\"Hair dryer\"\"|\n",
      "|   9898855|Grand 2 piÃ¨ces d...|10121410|2013-11-19|              null|              null|                null|                f|                        1|                     t|  Enclos-St-Laurent|    null|Paris|Entire apartment|Entire place|           2|       1| \"\"Essentials\"\"|         \"\"Hangers\"\"|\n",
      "|  10266213|Studio pour deux,...|52785202|2015-12-30|              null|              null|                null|                f|                        1|                     t|             Elysee|    null|Paris|Entire apartment|Entire place|           2|       1|         \"\"TV\"\"|      \"\"Essentials\"\"|\n",
      "|  11643413|Luminous & very c...|34678556|2015-05-31|              null|              null|                null|                f|                        1|                     f|         Popincourt|    null|Paris|Entire apartment|Entire place|           2|       1|         \"\"TV\"\"|      \"\"Essentials\"\"|\n",
      "|  11764434|2 piÃ¨ces baignee...|28504056|2015-02-28|              null|              null|                null|                f|                        1|                     t|Batignolles-Monceau|    null|Paris|Entire apartment|Entire place|           2|       1|         \"\"TV\"\"|      \"\"Hair dryer\"\"|\n",
      "|  11963112|Appartement au co...|63894099|2016-03-21|              null|              null|                null|                f|                        1|                     f|         Popincourt|    null|Paris|Entire apartment|Entire place|           2|       1|         \"\"TV\"\"|      \"\"Essentials\"\"|\n",
      "|  11985909|2 rooms Canal St ...| 6056099|2013-04-23|              null|              null|                null|                f|                        1|                     t|  Enclos-St-Laurent|    null|Paris|Entire apartment|Entire place|           2|       1|       \"\"Iron\"\"|     \"\"Smoke alarm\"\"|\n",
      "|  12331902|      Calm 1 Bedroom|23193463|2014-10-31|              null|              null|                null|                f|                        1|                     t|           Gobelins|    null|Paris|Entire apartment|Entire place|           2|       1|         \"\"TV\"\"|      \"\"Essentials\"\"|\n",
      "+----------+--------------------+--------+----------+------------------+------------------+--------------------+-----------------+-------------------------+----------------------+-------------------+--------+-----+----------------+------------+------------+--------+---------------+--------------------+\n",
      "only showing top 20 rows\n",
      "\n"
     ]
    }
   ],
   "source": [
    "new_df.show()"
   ]
  },
  {
   "cell_type": "code",
   "execution_count": 12,
   "id": "a4a3b838",
   "metadata": {
    "scrolled": true
   },
   "outputs": [
    {
     "name": "stdout",
     "output_type": "stream",
     "text": [
      "root\n",
      " |-- listing_id: integer (nullable = true)\n",
      " |-- name: string (nullable = true)\n",
      " |-- host_id: string (nullable = true)\n",
      " |-- host_since: string (nullable = true)\n",
      " |-- host_response_time: string (nullable = true)\n",
      " |-- host_response_rate: string (nullable = true)\n",
      " |-- host_acceptance_rate: string (nullable = true)\n",
      " |-- host_is_superhost: string (nullable = true)\n",
      " |-- host_total_listings_count: string (nullable = true)\n",
      " |-- host_identity_verified: string (nullable = true)\n",
      " |-- neighbourhood: string (nullable = true)\n",
      " |-- district: string (nullable = true)\n",
      " |-- city: string (nullable = true)\n",
      " |-- property_type: string (nullable = true)\n",
      " |-- room_type: string (nullable = true)\n",
      " |-- accommodates: string (nullable = true)\n",
      " |-- bedrooms: string (nullable = true)\n",
      " |-- price: string (nullable = true)\n",
      " |-- review_scores_rating: string (nullable = true)\n",
      "\n"
     ]
    }
   ],
   "source": [
    "new_df.printSchema()"
   ]
  },
  {
   "cell_type": "markdown",
   "id": "0f2b3056",
   "metadata": {},
   "source": [
    "### Convert the host_since column from string to date type"
   ]
  },
  {
   "cell_type": "code",
   "execution_count": 26,
   "id": "e036b7c0",
   "metadata": {},
   "outputs": [],
   "source": [
    "listings=new_df.withColumn(\"host_since\",to_date(col(\"host_since\")))"
   ]
  },
  {
   "cell_type": "markdown",
   "id": "d86c0cc6",
   "metadata": {},
   "source": [
    "### Cast other columns into appropriate types"
   ]
  },
  {
   "cell_type": "code",
   "execution_count": 30,
   "id": "c0918c49",
   "metadata": {},
   "outputs": [],
   "source": [
    "listings_final = listings.withColumn(\"host_total_listings_count\",col(\"host_total_listings_count\").cast(\"int\")).\\\n",
    "                withColumn(\"host_response_rate\",col(\"host_response_rate\").cast(\"float\")).\\\n",
    "                withColumn(\"host_acceptance_rate\",col(\"host_acceptance_rate\").cast(\"float\")).\\\n",
    "                withColumn(\"accommodates\",col(\"accommodates\").cast(\"int\")).\\\n",
    "                withColumn(\"bedrooms\",col(\"bedrooms\").cast(\"int\")).\\\n",
    "                withColumn(\"price\",col(\"price\").cast(\"int\")).\\\n",
    "                withColumn(\"review_scores_rating\",col(\"review_scores_rating\").cast(\"int\"))"
   ]
  },
  {
   "cell_type": "code",
   "execution_count": 32,
   "id": "9d98b724",
   "metadata": {},
   "outputs": [
    {
     "name": "stdout",
     "output_type": "stream",
     "text": [
      "root\n",
      " |-- listing_id: integer (nullable = true)\n",
      " |-- name: string (nullable = true)\n",
      " |-- host_id: string (nullable = true)\n",
      " |-- host_since: date (nullable = true)\n",
      " |-- host_response_time: string (nullable = true)\n",
      " |-- host_response_rate: float (nullable = true)\n",
      " |-- host_acceptance_rate: float (nullable = true)\n",
      " |-- host_is_superhost: string (nullable = true)\n",
      " |-- host_total_listings_count: integer (nullable = true)\n",
      " |-- host_identity_verified: string (nullable = true)\n",
      " |-- neighbourhood: string (nullable = true)\n",
      " |-- district: string (nullable = true)\n",
      " |-- city: string (nullable = true)\n",
      " |-- property_type: string (nullable = true)\n",
      " |-- room_type: string (nullable = true)\n",
      " |-- accommodates: integer (nullable = true)\n",
      " |-- bedrooms: integer (nullable = true)\n",
      " |-- price: integer (nullable = true)\n",
      " |-- review_scores_rating: integer (nullable = true)\n",
      "\n"
     ]
    }
   ],
   "source": [
    "listings_final.printSchema()"
   ]
  },
  {
   "cell_type": "markdown",
   "id": "f26bac3a",
   "metadata": {},
   "source": [
    "### Repartition the data frame into 20 partitions and write the results to GCS as parquet files"
   ]
  },
  {
   "cell_type": "code",
   "execution_count": 34,
   "id": "aff9c0e7",
   "metadata": {},
   "outputs": [],
   "source": [
    "final_df=listings_final.repartition(20)"
   ]
  },
  {
   "cell_type": "code",
   "execution_count": 35,
   "id": "c35c7a0c",
   "metadata": {},
   "outputs": [
    {
     "name": "stderr",
     "output_type": "stream",
     "text": [
      "                                                                                \r"
     ]
    }
   ],
   "source": [
    "final_df.write.mode(\"overwrite\").parquet(\"gs://airbnb_listing_analysis/raw_parquet\")"
   ]
  },
  {
   "cell_type": "code",
   "execution_count": null,
   "id": "55488e61",
   "metadata": {},
   "outputs": [],
   "source": []
  }
 ],
 "metadata": {
  "kernelspec": {
   "display_name": "Python 3 (ipykernel)",
   "language": "python",
   "name": "python3"
  },
  "language_info": {
   "codemirror_mode": {
    "name": "ipython",
    "version": 3
   },
   "file_extension": ".py",
   "mimetype": "text/x-python",
   "name": "python",
   "nbconvert_exporter": "python",
   "pygments_lexer": "ipython3",
   "version": "3.9.13"
  }
 },
 "nbformat": 4,
 "nbformat_minor": 5
}
